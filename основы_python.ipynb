{
  "cells": [
    {
      "cell_type": "markdown",
      "metadata": {
        "id": "M-DGa20PaHnu"
      },
      "source": [
        "#Задача 1\n",
        "Написать функцию на вход которой подается строка, состоящая из латинских букв.\n",
        "Функция должна вернуть количество гласных букв (a, e, i, o, u) в этой строке. Написать тесты для кода"
      ]
    },
    {
      "cell_type": "code",
      "execution_count": 1,
      "metadata": {
        "id": "XvX8X_JJ6PCb"
      },
      "outputs": [
        {
          "name": "stdout",
          "output_type": "stream",
          "text": [
            "True\n",
            "True\n",
            "True\n",
            "True\n",
            "True\n"
          ]
        }
      ],
      "source": [
        "def number_of_vowels(str):\n",
        "  if not str.isalpha():\n",
        "    return \"Неправильная строка\"\n",
        "  str = str.lower()\n",
        "  vowels = [\"a\", \"e\", \"i\", \"o\", \"u\", \"y\"]\n",
        "  result = 0\n",
        "  for letter in str:\n",
        "    if letter in vowels:\n",
        "      result += 1\n",
        "  return result\n",
        "\n",
        "print(number_of_vowels(\"aeiouy\") == 6)\n",
        "print(number_of_vowels(\"bcdfghjklmnpqrstvwxz\") == 0)\n",
        "print(number_of_vowels(\"A\") == 1)\n",
        "print(number_of_vowels(\"a \") == \"Неправильная строка\")\n",
        "print(number_of_vowels(\"a2\") == \"Неправильная строка\")"
      ]
    },
    {
      "cell_type": "markdown",
      "metadata": {
        "id": "t2ClV_Y0bbr6"
      },
      "source": [
        "# Задача 2\n",
        "Написать функцию на вход, которой подается строка. Функция должна вернуть true, если\n",
        "каждый символ в строке встречается только 1 раз, иначе должна вернуть false. Написать тесты для кода"
      ]
    },
    {
      "cell_type": "code",
      "execution_count": 2,
      "metadata": {
        "id": "FppbECao6VIz"
      },
      "outputs": [
        {
          "name": "stdout",
          "output_type": "stream",
          "text": [
            "True\n",
            "True\n"
          ]
        }
      ],
      "source": [
        "def is_unique_chars(str):\n",
        "  set_of_chars = set(str)\n",
        "  return len(str) == len(set_of_chars)\n",
        "\n",
        "print(is_unique_chars(\"abcdefghijklmnopqrstuvwxyzABCDEFGHIJKLMNOPQRSTUVWXYZ1234567890 .,/\\|{}[]()-+_=;'?!\") == True)\n",
        "print(is_unique_chars(\"ada\") == False)"
      ]
    },
    {
      "cell_type": "markdown",
      "metadata": {
        "id": "udRiIK1cdt6E"
      },
      "source": [
        "# Задача 3\n",
        "Написать функцию, которая принимает положительное число и возвращает количество\n",
        "бит равных 1 в этом числе. Написать тесты для кода"
      ]
    },
    {
      "cell_type": "code",
      "execution_count": 6,
      "metadata": {
        "id": "6tkfDJRz6dp_"
      },
      "outputs": [
        {
          "name": "stdout",
          "output_type": "stream",
          "text": [
            "True\n",
            "True\n",
            "True\n",
            "True\n"
          ]
        }
      ],
      "source": [
        "def number_of_one(num):\n",
        "  if type(num) != int:\n",
        "    return \"Не является числом\"\n",
        "  if num < 0:\n",
        "    return \"Число должно быть положительным\"\n",
        "  bit_num = bin(num)[2:]\n",
        "  return bit_num.count(\"1\")\n",
        "\n",
        "print(number_of_one(57) == 4)\n",
        "print(number_of_one(128) == 1)\n",
        "print(number_of_one(\"Fish\") == \"Не является числом\")\n",
        "print(number_of_one(-1) == \"Число должно быть положительным\")"
      ]
    },
    {
      "cell_type": "markdown",
      "metadata": {
        "id": "26dDUz-Ae17N"
      },
      "source": [
        "# Задача 4\n",
        "Написать функцию, которая принимает положительное число. Функция должна вернуть то,\n",
        "сколько раз необходимо перемножать цифры числа или результат перемножения, чтобы\n",
        "получилось число состоящее из одной цифры.\n",
        "Например, для входного числа:\n",
        "· 39 функция должна вернуть 3, так как 3*9=27 => 2*7=14 => 1*4=4\n",
        "· 4 функция должна вернуть 0, так как число уже состоит из одной цифры\n",
        "· 999 функция должна вернуть 4, так как 9*9*9=729 => 7*2*9=126 => 1*2*6=12 =>\n",
        "1*2=2. Написать тесты для кода"
      ]
    },
    {
      "cell_type": "code",
      "execution_count": 7,
      "metadata": {
        "id": "BH1A_Mgi6i4G"
      },
      "outputs": [
        {
          "name": "stdout",
          "output_type": "stream",
          "text": [
            "True\n",
            "True\n",
            "True\n",
            "True\n",
            "True\n"
          ]
        }
      ],
      "source": [
        "def path_to_one(num):\n",
        "  if type(num) != int or num < 0:\n",
        "    return \"Неправильный аргумент\"\n",
        "  result = 0\n",
        "  while num > 9:\n",
        "    new_num = 1\n",
        "    for sym in str(num):\n",
        "      new_num *= int(sym)\n",
        "    num = new_num\n",
        "    result += 1\n",
        "  return result\n",
        "\n",
        "print(path_to_one(39) == 3)\n",
        "print(path_to_one(4) == 0)\n",
        "print(path_to_one(999) == 4)\n",
        "print(path_to_one(313) == 1)\n",
        "print(path_to_one(-1) == \"Неправильный аргумент\")"
      ]
    },
    {
      "cell_type": "markdown",
      "metadata": {
        "id": "0nS-kIa8g8vd"
      },
      "source": [
        "# Задача 5\n",
        "Написать функцию, которая принимает два целочисленных вектора одинаковой длины и\n",
        "возвращает среднеквадратическое отклонение двух векторов. Написать тесты для кода"
      ]
    },
    {
      "cell_type": "code",
      "execution_count": 8,
      "metadata": {
        "id": "8iphx4LM6xbx"
      },
      "outputs": [
        {
          "name": "stdout",
          "output_type": "stream",
          "text": [
            "True\n",
            "True\n",
            "True\n"
          ]
        }
      ],
      "source": [
        "from math import sqrt\n",
        "\n",
        "def mse(first, second):\n",
        "  if len(first) != len(second):\n",
        "    return \"Векторы разной длины\"\n",
        "  n = len(first)\n",
        "  sum_of_squares = sum((first[i] - second[i]) ** 2 for i in range(n))\n",
        "  return sqrt(sum_of_squares / n)\n",
        "\n",
        "print(mse([1, 2, 3], [8, 9, 10]) == 7.0)\n",
        "print(mse([4, 2, 3], [4, 9, 20]) == 10.614455552060438)\n",
        "print(mse([1, 2, 3], [8, 9]) == \"Векторы разной длины\")"
      ]
    },
    {
      "cell_type": "markdown",
      "metadata": {
        "id": "vpIPKL439zkw"
      },
      "source": [
        "# Задача 6\n",
        "Написать функцию, принимающая целое положительное число. Функция должна вернуть\n",
        "строку вида “(n1**p1)(n2**p2)…(nk**pk)” представляющая разложение числа на простые\n",
        "множители (если pi == 1, то выводить только ni).\n",
        "Например, для числа 86240 функция должна вернуть “(2**5)(5)(7**2)(11)”. Написать тесты для кода"
      ]
    },
    {
      "cell_type": "code",
      "execution_count": 9,
      "metadata": {
        "id": "pFebmcZk94Jw"
      },
      "outputs": [
        {
          "name": "stdout",
          "output_type": "stream",
          "text": [
            "True\n",
            "True\n",
            "True\n"
          ]
        }
      ],
      "source": [
        "def factorization(num):\n",
        "  if type(num) != int or num < 0:\n",
        "    return \"Неправильный аргумент\"\n",
        "  multipliers = []\n",
        "  d = 2\n",
        "  while d * d <= num:\n",
        "    while num % d == 0:\n",
        "      multipliers.append(d)\n",
        "      num /= d\n",
        "    d += 1\n",
        "  if num > 1:\n",
        "    multipliers.append(int(num))\n",
        "\n",
        "  set_multipliers = sorted(set(multipliers))\n",
        "  result = \"\"\n",
        "  for value in set_multipliers:\n",
        "    count_factor = multipliers.count(value)\n",
        "    if count_factor == 1:\n",
        "      result = result + f\"({value})\"\n",
        "    else:\n",
        "      result = result + f\"({value}**{count_factor})\"\n",
        "  return result\n",
        "\n",
        "print(factorization(86240) == \"(2**5)(5)(7**2)(11)\")\n",
        "print(factorization(185368576) == \"(2**15)(5657)\")\n",
        "print(factorization(-1) == \"Неправильный аргумент\")"
      ]
    },
    {
      "cell_type": "markdown",
      "metadata": {
        "id": "ps2s0BudX7A2"
      },
      "source": [
        "# Задача 7\n",
        "Написать функцию, принимающая целое число n, задающее количество кубиков. Функция\n",
        "должна определить, можно ли из данного кол-ва кубиков построить пирамиду, то есть\n",
        "можно ли представить число n как 1^2+2^2+3^2+…+k^2. Если можно, то функция должна\n",
        "вернуть k, иначе строку “It is impossible”. Написать тесты для кода"
      ]
    },
    {
      "cell_type": "code",
      "execution_count": 10,
      "metadata": {
        "id": "3YPjEXxhX_YT"
      },
      "outputs": [
        {
          "name": "stdout",
          "output_type": "stream",
          "text": [
            "True\n",
            "True\n",
            "True\n"
          ]
        }
      ],
      "source": [
        "def pyramid(n):\n",
        "  sum_of_squares, k = 0, 0\n",
        "  while sum_of_squares < n:\n",
        "    k += 1\n",
        "    sum_of_squares += k * k\n",
        "  if sum_of_squares == n:\n",
        "    return k\n",
        "  return \"It is impossible\"\n",
        "\n",
        "print(pyramid(506) == 11)\n",
        "print(pyramid(328350) == 99)\n",
        "print(pyramid(386) == \"It is impossible\")"
      ]
    },
    {
      "cell_type": "markdown",
      "metadata": {
        "id": "KeKgmIdAQMEJ"
      },
      "source": [
        "# Задача 8\n",
        "Функция принимает на вход положительное число и определяет является ли оно сбалансированным, т.е. сумма цифр до средних равна сумме цифр после. Средними в случае нечетного числа цифр считать одну цифру, в случае четного - две средних. Написать тесты для кода"
      ]
    },
    {
      "cell_type": "code",
      "execution_count": 11,
      "metadata": {
        "id": "gMAAqtqlQrZt"
      },
      "outputs": [
        {
          "name": "stdout",
          "output_type": "stream",
          "text": [
            "True\n",
            "True\n",
            "True\n",
            "True\n",
            "True\n"
          ]
        }
      ],
      "source": [
        "def is_balanced(num):\n",
        "  arr_num = [int(value) for value in str(num)]\n",
        "  length = len(arr_num)\n",
        "  mean = length // 2\n",
        "  if length % 2 != 0:\n",
        "    left_part = arr_num[:mean]\n",
        "    right_part = arr_num[mean + 1:]\n",
        "  else:\n",
        "    left_part = arr_num[:mean - 1]\n",
        "    right_part = arr_num[mean + 1:]\n",
        "  return sum(left_part) == sum(right_part)\n",
        "\n",
        "print(is_balanced(456654) == True)\n",
        "print(is_balanced(45654) == True)\n",
        "print(is_balanced(123412) == True)\n",
        "print(is_balanced(123456) == False)\n",
        "print(is_balanced(12389) == False)"
      ]
    }
  ],
  "metadata": {
    "colab": {
      "provenance": []
    },
    "kernelspec": {
      "display_name": "Python 3",
      "name": "python3"
    },
    "language_info": {
      "codemirror_mode": {
        "name": "ipython",
        "version": 3
      },
      "file_extension": ".py",
      "mimetype": "text/x-python",
      "name": "python",
      "nbconvert_exporter": "python",
      "pygments_lexer": "ipython3",
      "version": "3.11.2"
    }
  },
  "nbformat": 4,
  "nbformat_minor": 0
}
